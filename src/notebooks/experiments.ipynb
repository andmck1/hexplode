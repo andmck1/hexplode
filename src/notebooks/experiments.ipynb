{
 "cells": [
  {
   "cell_type": "markdown",
   "metadata": {},
   "source": [
    "# Imports"
   ]
  },
  {
   "cell_type": "code",
   "execution_count": 1,
   "metadata": {},
   "outputs": [],
   "source": [
    "import itertools\n",
    "import numpy as np\n",
    "import pandas as pd\n",
    "import networkx as nx"
   ]
  },
  {
   "cell_type": "markdown",
   "metadata": {},
   "source": [
    "# Config"
   ]
  },
  {
   "cell_type": "code",
   "execution_count": 2,
   "metadata": {},
   "outputs": [],
   "source": [
    "# board size = length of one side of hexagonal board\n",
    "board_size = 4"
   ]
  },
  {
   "cell_type": "markdown",
   "metadata": {},
   "source": [
    "# Create Board"
   ]
  },
  {
   "cell_type": "markdown",
   "metadata": {},
   "source": [
    "* hexagonal 2d space can be represented with 3 axes on a 2d plane equally \n",
    "separated\n",
    "* each integer coordinate is a single square on the board\n",
    "* neighbours are then +1 in each axes, maxed at the size of the board"
   ]
  },
  {
   "cell_type": "code",
   "execution_count": 81,
   "metadata": {},
   "outputs": [],
   "source": [
    "nodes = np.array(\n",
    "    list(itertools.product(*[range(-board_size + 1, board_size)] * 2))\n",
    ")\n",
    "directions = list(itertools.product(*[[-1, 0, 1]] * 2))\n",
    "directions.pop(directions.index((0, 0)))\n",
    "directions = np.array(directions)"
   ]
  },
  {
   "cell_type": "code",
   "execution_count": 82,
   "metadata": {},
   "outputs": [],
   "source": [
    "edges = {}\n",
    "for i, node in enumerate(nodes):\n",
    "    edges[i] = []\n",
    "    for direction in directions:\n",
    "        neighbour = node + direction\n",
    "        if (np.abs(neighbour) >= board_size).sum() > 0:\n",
    "            continue\n",
    "        neighbour_index = nodes.tolist().index(neighbour.tolist())\n",
    "        edges[i].append(neighbour_index)\n",
    "g = nx.from_dict_of_lists(edges)"
   ]
  },
  {
   "cell_type": "code",
   "execution_count": 88,
   "metadata": {},
   "outputs": [
    {
     "name": "stdout",
     "output_type": "stream",
     "text": [
      "from node:\n",
      "[-3 -3]\n",
      "\n",
      "to nodes:\n",
      "[-3 -2]\n",
      "[-2 -3]\n",
      "[-2 -2]\n"
     ]
    }
   ],
   "source": [
    "print(f\"from node:\\n{nodes[0]}\\n\")\n",
    "print(\"to nodes:\")\n",
    "for to_node in g[0].keys():\n",
    "    print(nodes[to_node])"
   ]
  },
  {
   "cell_type": "code",
   "execution_count": 77,
   "metadata": {},
   "outputs": [
    {
     "data": {
      "text/plain": [
       "array([-3, -3, -3])"
      ]
     },
     "execution_count": 77,
     "metadata": {},
     "output_type": "execute_result"
    }
   ],
   "source": [
    "nodes[0]"
   ]
  },
  {
   "cell_type": "code",
   "execution_count": 78,
   "metadata": {},
   "outputs": [
    {
     "data": {
      "text/plain": [
       "37"
      ]
     },
     "execution_count": 78,
     "metadata": {},
     "output_type": "execute_result"
    }
   ],
   "source": [
    "4 + 5 + 6 + 7 + 6 + 5 + 4"
   ]
  },
  {
   "cell_type": "code",
   "execution_count": 84,
   "metadata": {},
   "outputs": [
    {
     "data": {
      "text/plain": [
       "49"
      ]
     },
     "execution_count": 84,
     "metadata": {},
     "output_type": "execute_result"
    }
   ],
   "source": [
    "len(nodes)"
   ]
  },
  {
   "cell_type": "markdown",
   "metadata": {},
   "source": [
    "---"
   ]
  },
  {
   "cell_type": "code",
   "execution_count": 3,
   "metadata": {},
   "outputs": [],
   "source": [
    "def hexagonal_coordinates(n):\n",
    "    \"\"\"Generate all coordinates for a hexagonal board with side length n.\"\"\"\n",
    "    for x in range(-n + 1, n):\n",
    "        for y in range(max(-n + 1, -x - n + 1), min(n, -x + n)):\n",
    "            z = -x - y\n",
    "            yield (x, y, z)\n",
    "\n",
    "\n",
    "def hexagonal_neighbors(x, y, z):\n",
    "    \"\"\"Yield the neighbors of a given hexagon cell in cube coordinates.\"\"\"\n",
    "    # Six possible directions for a hex cell\n",
    "    directions = [\n",
    "        (+1, -1, 0),\n",
    "        (+1, 0, -1),\n",
    "        (0, +1, -1),\n",
    "        (-1, +1, 0),\n",
    "        (-1, 0, +1),\n",
    "        (0, -1, +1),\n",
    "    ]\n",
    "    for dx, dy, dz in directions:\n",
    "        yield (x + dx, y + dy, z + dz)\n",
    "\n",
    "\n",
    "def create_hexagonal_board(n):\n",
    "    \"\"\"Create a DataFrame representing the edges of a hexagonal board.\"\"\"\n",
    "    coords = list(hexagonal_coordinates(n))\n",
    "    edges = []\n",
    "    seen = set()\n",
    "\n",
    "    for x, y, z in coords:\n",
    "        for nx, ny, nz in hexagonal_neighbors(x, y, z):\n",
    "            if (nx, ny, nz) in coords:\n",
    "                edge = tuple(sorted([(x, y, z), (nx, ny, nz)]))\n",
    "                if edge not in seen:\n",
    "                    seen.add(edge)\n",
    "                    edges.append(edge)\n",
    "\n",
    "    # Creating DataFrame from edges list\n",
    "    edge_df = pd.DataFrame(edges, columns=[\"source\", \"target\"])\n",
    "    return edge_df"
   ]
  },
  {
   "cell_type": "code",
   "execution_count": 4,
   "metadata": {},
   "outputs": [
    {
     "name": "stdout",
     "output_type": "stream",
     "text": [
      "        source      target\n",
      "0   (-1, 0, 1)  (0, -1, 1)\n",
      "1   (-1, 0, 1)   (0, 0, 0)\n",
      "2   (-1, 0, 1)  (-1, 1, 0)\n",
      "3   (-1, 1, 0)   (0, 0, 0)\n",
      "4   (-1, 1, 0)  (0, 1, -1)\n",
      "5   (0, -1, 1)  (1, -1, 0)\n",
      "6   (0, -1, 1)   (0, 0, 0)\n",
      "7    (0, 0, 0)  (1, -1, 0)\n",
      "8    (0, 0, 0)  (1, 0, -1)\n",
      "9    (0, 0, 0)  (0, 1, -1)\n",
      "10  (0, 1, -1)  (1, 0, -1)\n",
      "11  (1, -1, 0)  (1, 0, -1)\n"
     ]
    }
   ],
   "source": [
    "# Example usage\n",
    "n = 2  # Side length of the hexagonal board\n",
    "df_edges = create_hexagonal_board(n)\n",
    "print(df_edges)"
   ]
  },
  {
   "cell_type": "code",
   "execution_count": 5,
   "metadata": {},
   "outputs": [],
   "source": [
    "g = nx.from_pandas_edgelist(df_edges)"
   ]
  },
  {
   "cell_type": "code",
   "execution_count": 6,
   "metadata": {},
   "outputs": [
    {
     "data": {
      "text/plain": [
       "[(-1, 0, 1),\n",
       " (0, -1, 1),\n",
       " (0, 0, 0),\n",
       " (-1, 1, 0),\n",
       " (0, 1, -1),\n",
       " (1, -1, 0),\n",
       " (1, 0, -1)]"
      ]
     },
     "execution_count": 6,
     "metadata": {},
     "output_type": "execute_result"
    }
   ],
   "source": [
    "list(g.nodes())"
   ]
  },
  {
   "cell_type": "code",
   "execution_count": null,
   "metadata": {},
   "outputs": [],
   "source": [
    "\"\"\"\n",
    ".|0|0|.\n",
    "|0|0|0|\n",
    ".|0|0|.\n",
    "\"\"\""
   ]
  },
  {
   "cell_type": "code",
   "execution_count": 7,
   "metadata": {},
   "outputs": [],
   "source": []
  },
  {
   "cell_type": "code",
   "execution_count": null,
   "metadata": {},
   "outputs": [],
   "source": [
    "\"\"\"\n",
    "(-1, 0, 1)  ->  (-1,1)\n",
    "(0, -1, 1)  ->  (1,1)\n",
    "(0, 0, 0)   ->  (0,0)\n",
    "(-1, 1, 0)  ->  (0,-1)\n",
    "(0, 1, -1)  ->  (-1,-1)\n",
    "(1, -1, 0)  ->  (0,1)\n",
    "(1, 0, -1)  ->  (1,-1)\n",
    "\"\"\""
   ]
  },
  {
   "cell_type": "code",
   "execution_count": 8,
   "metadata": {},
   "outputs": [],
   "source": [
    "def cubic_to_pixel(x, y, z):\n",
    "    return (x - y, -x - y)"
   ]
  },
  {
   "cell_type": "code",
   "execution_count": 13,
   "metadata": {},
   "outputs": [
    {
     "name": "stdout",
     "output_type": "stream",
     "text": [
      "(-1, 0, 1)\t->\t(-1, 1)\n",
      "(0, -1, 1)\t->\t(1, 1)\n",
      "(0, 0, 0)\t->\t(0, 0)\n",
      "(-1, 1, 0)\t->\t(-2, 0)\n",
      "(0, 1, -1)\t->\t(-1, -1)\n",
      "(1, -1, 0)\t->\t(2, 0)\n",
      "(1, 0, -1)\t->\t(1, -1)\n"
     ]
    }
   ],
   "source": [
    "pixel_coordinates = list(map(lambda x: cubic_to_pixel(*x), g.nodes()))\n",
    "for cn, pn in zip(g.nodes(), pixel_coordinates):\n",
    "    print(f\"{cn}\\t->\\t{pn}\")"
   ]
  },
  {
   "cell_type": "code",
   "execution_count": 35,
   "metadata": {},
   "outputs": [],
   "source": [
    "def print_board(graph, size):\n",
    "    cubic_nodes = graph.nodes()\n",
    "    pixel_nodes = list(map(lambda x: cubic_to_pixel(*x), cubic_nodes))\n",
    "\n",
    "    sorted_pixel_nodes = sorted(\n",
    "        pixel_nodes, key=lambda x: (x[1], -x[0]), reverse=True\n",
    "    )\n",
    "\n",
    "    board = np.full((size + 1, size + 1), fill_value=\".\")\n",
    "\n",
    "    for node in pixel_nodes:\n",
    "        x, y = node[0]\n",
    "        board[node] = 0\n",
    "\n",
    "    for i in range(size):\n",
    "        for j in range(size):\n",
    "            print(board[i][j])\n",
    "        print()\n",
    "    print(board)"
   ]
  },
  {
   "cell_type": "code",
   "execution_count": 36,
   "metadata": {},
   "outputs": [
    {
     "name": "stdout",
     "output_type": "stream",
     "text": [
      "0\n",
      ".\n",
      "\n",
      "0\n",
      "0\n",
      "\n",
      "[['0' '.' '.']\n",
      " ['0' '0' '0']\n",
      " ['0' '0' '0']]\n"
     ]
    }
   ],
   "source": [
    "print_board(g, 2)"
   ]
  }
 ],
 "metadata": {
  "kernelspec": {
   "display_name": "hexplode",
   "language": "python",
   "name": "python3"
  },
  "language_info": {
   "codemirror_mode": {
    "name": "ipython",
    "version": 3
   },
   "file_extension": ".py",
   "mimetype": "text/x-python",
   "name": "python",
   "nbconvert_exporter": "python",
   "pygments_lexer": "ipython3",
   "version": "3.11.0"
  }
 },
 "nbformat": 4,
 "nbformat_minor": 4
}
