{
 "cells": [
  {
   "cell_type": "markdown",
   "metadata": {},
   "source": [
    "# Imports"
   ]
  },
  {
   "cell_type": "code",
   "execution_count": 1,
   "metadata": {},
   "outputs": [],
   "source": [
    "import itertools\n",
    "import numpy as np\n",
    "import pandas as pd\n",
    "import networkx as nx"
   ]
  },
  {
   "cell_type": "markdown",
   "metadata": {},
   "source": [
    "# Config"
   ]
  },
  {
   "cell_type": "code",
   "execution_count": 2,
   "metadata": {},
   "outputs": [],
   "source": [
    "# board size = length of one side of hexagonal board\n",
    "board_size = 4"
   ]
  },
  {
   "cell_type": "markdown",
   "metadata": {},
   "source": [
    "# Create Board"
   ]
  },
  {
   "cell_type": "markdown",
   "metadata": {},
   "source": [
    "* hexagonal 2d space can be represented with 3 axes on a 2d plane equally \n",
    "separated\n",
    "* each integer coordinate is a single square on the board\n",
    "* neighbours are then +1 in each axes, maxed at the size of the board"
   ]
  },
  {
   "cell_type": "code",
   "execution_count": 81,
   "metadata": {},
   "outputs": [],
   "source": [
    "nodes = np.array(\n",
    "    list(itertools.product(*[range(-board_size + 1, board_size)] * 2))\n",
    ")\n",
    "directions = list(itertools.product(*[[-1, 0, 1]] * 2))\n",
    "directions.pop(directions.index((0, 0)))\n",
    "directions = np.array(directions)"
   ]
  },
  {
   "cell_type": "code",
   "execution_count": 82,
   "metadata": {},
   "outputs": [],
   "source": [
    "edges = {}\n",
    "for i, node in enumerate(nodes):\n",
    "    edges[i] = []\n",
    "    for direction in directions:\n",
    "        neighbour = node + direction\n",
    "        if (np.abs(neighbour) >= board_size).sum() > 0:\n",
    "            continue\n",
    "        neighbour_index = nodes.tolist().index(neighbour.tolist())\n",
    "        edges[i].append(neighbour_index)\n",
    "g = nx.from_dict_of_lists(edges)"
   ]
  },
  {
   "cell_type": "code",
   "execution_count": 88,
   "metadata": {},
   "outputs": [
    {
     "name": "stdout",
     "output_type": "stream",
     "text": [
      "from node:\n",
      "[-3 -3]\n",
      "\n",
      "to nodes:\n",
      "[-3 -2]\n",
      "[-2 -3]\n",
      "[-2 -2]\n"
     ]
    }
   ],
   "source": [
    "print(f\"from node:\\n{nodes[0]}\\n\")\n",
    "print(\"to nodes:\")\n",
    "for to_node in g[0].keys():\n",
    "    print(nodes[to_node])"
   ]
  },
  {
   "cell_type": "code",
   "execution_count": 77,
   "metadata": {},
   "outputs": [
    {
     "data": {
      "text/plain": [
       "array([-3, -3, -3])"
      ]
     },
     "execution_count": 77,
     "metadata": {},
     "output_type": "execute_result"
    }
   ],
   "source": [
    "nodes[0]"
   ]
  },
  {
   "cell_type": "code",
   "execution_count": 78,
   "metadata": {},
   "outputs": [
    {
     "data": {
      "text/plain": [
       "37"
      ]
     },
     "execution_count": 78,
     "metadata": {},
     "output_type": "execute_result"
    }
   ],
   "source": [
    "4 + 5 + 6 + 7 + 6 + 5 + 4"
   ]
  },
  {
   "cell_type": "code",
   "execution_count": 84,
   "metadata": {},
   "outputs": [
    {
     "data": {
      "text/plain": [
       "49"
      ]
     },
     "execution_count": 84,
     "metadata": {},
     "output_type": "execute_result"
    }
   ],
   "source": [
    "len(nodes)"
   ]
  },
  {
   "cell_type": "markdown",
   "metadata": {},
   "source": [
    "---"
   ]
  },
  {
   "cell_type": "code",
   "execution_count": 5,
   "metadata": {},
   "outputs": [],
   "source": [
    "def hexagonal_coordinates(n):\n",
    "    \"\"\"Generate all coordinates for a hexagonal board with side length n.\"\"\"\n",
    "    for x in range(-n + 1, n):\n",
    "        for y in range(max(-n + 1, -x - n + 1), min(n, -x + n)):\n",
    "            z = -x - y\n",
    "            yield (x, y, z)\n",
    "\n",
    "\n",
    "def hexagonal_neighbors(x, y, z):\n",
    "    \"\"\"Yield the neighbors of a given hexagon cell in cube coordinates.\"\"\"\n",
    "    # Six possible directions for a hex cell\n",
    "    directions = [\n",
    "        (+1, -1, 0),\n",
    "        (+1, 0, -1),\n",
    "        (0, +1, -1),\n",
    "        (-1, +1, 0),\n",
    "        (-1, 0, +1),\n",
    "        (0, -1, +1),\n",
    "    ]\n",
    "    for dx, dy, dz in directions:\n",
    "        yield (x + dx, y + dy, z + dz)\n",
    "\n",
    "\n",
    "def create_hexagonal_board(n):\n",
    "    \"\"\"Create a DataFrame representing the edges of a hexagonal board.\"\"\"\n",
    "    coords = list(hexagonal_coordinates(n))\n",
    "    edges = []\n",
    "    seen = set()\n",
    "\n",
    "    for x, y, z in coords:\n",
    "        for nx, ny, nz in hexagonal_neighbors(x, y, z):\n",
    "            if (nx, ny, nz) in coords:\n",
    "                edge = tuple(sorted([(x, y, z), (nx, ny, nz)]))\n",
    "                if edge not in seen:\n",
    "                    seen.add(edge)\n",
    "                    edges.append(edge)\n",
    "\n",
    "    # Creating DataFrame from edges list\n",
    "    edge_df = pd.DataFrame(edges, columns=[\"source\", \"target\"])\n",
    "    return edge_df"
   ]
  },
  {
   "cell_type": "code",
   "execution_count": 6,
   "metadata": {},
   "outputs": [
    {
     "name": "stdout",
     "output_type": "stream",
     "text": [
      "        source      target\n",
      "0   (-1, 0, 1)  (0, -1, 1)\n",
      "1   (-1, 0, 1)   (0, 0, 0)\n",
      "2   (-1, 0, 1)  (-1, 1, 0)\n",
      "3   (-1, 1, 0)   (0, 0, 0)\n",
      "4   (-1, 1, 0)  (0, 1, -1)\n",
      "5   (0, -1, 1)  (1, -1, 0)\n",
      "6   (0, -1, 1)   (0, 0, 0)\n",
      "7    (0, 0, 0)  (1, -1, 0)\n",
      "8    (0, 0, 0)  (1, 0, -1)\n",
      "9    (0, 0, 0)  (0, 1, -1)\n",
      "10  (0, 1, -1)  (1, 0, -1)\n",
      "11  (1, -1, 0)  (1, 0, -1)\n"
     ]
    }
   ],
   "source": [
    "# Example usage\n",
    "n = 2  # Side length of the hexagonal board\n",
    "df_edges = create_hexagonal_board(n)\n",
    "print(df_edges)"
   ]
  },
  {
   "cell_type": "code",
   "execution_count": 7,
   "metadata": {},
   "outputs": [],
   "source": [
    "g = nx.from_pandas_edgelist(df_edges)"
   ]
  },
  {
   "cell_type": "code",
   "execution_count": 8,
   "metadata": {},
   "outputs": [
    {
     "data": {
      "text/plain": [
       "[(-1, 0, 1),\n",
       " (0, -1, 1),\n",
       " (0, 0, 0),\n",
       " (-1, 1, 0),\n",
       " (0, 1, -1),\n",
       " (1, -1, 0),\n",
       " (1, 0, -1)]"
      ]
     },
     "execution_count": 8,
     "metadata": {},
     "output_type": "execute_result"
    }
   ],
   "source": [
    "list(g.nodes())"
   ]
  },
  {
   "cell_type": "code",
   "execution_count": 9,
   "metadata": {
    "collapsed": true,
    "jupyter": {
     "outputs_hidden": true
    }
   },
   "outputs": [
    {
     "data": {
      "text/plain": [
       "'\\n.|0|0|.\\n|0|0|0|\\n.|0|0|.\\n'"
      ]
     },
     "execution_count": 9,
     "metadata": {},
     "output_type": "execute_result"
    }
   ],
   "source": [
    "\"\"\"\n",
    ".|0|0|.\n",
    "|0|0|0|\n",
    ".|0|0|.\n",
    "\"\"\""
   ]
  },
  {
   "cell_type": "code",
   "execution_count": null,
   "metadata": {},
   "outputs": [],
   "source": []
  },
  {
   "cell_type": "code",
   "execution_count": 10,
   "metadata": {
    "collapsed": true,
    "jupyter": {
     "outputs_hidden": true
    }
   },
   "outputs": [
    {
     "data": {
      "text/plain": [
       "'\\n(-1, 0, 1)  ->  (-1,1)\\n(0, -1, 1)  ->  (1,1)\\n(0, 0, 0)   ->  (0,0)\\n(-1, 1, 0)  ->  (0,-1)\\n(0, 1, -1)  ->  (-1,-1)\\n(1, -1, 0)  ->  (0,1)\\n(1, 0, -1)  ->  (1,-1)\\n'"
      ]
     },
     "execution_count": 10,
     "metadata": {},
     "output_type": "execute_result"
    }
   ],
   "source": [
    "\"\"\"\n",
    "(-1, 0, 1)  ->  (-1,1)\n",
    "(0, -1, 1)  ->  (1,1)\n",
    "(0, 0, 0)   ->  (0,0)\n",
    "(-1, 1, 0)  ->  (0,-1)\n",
    "(0, 1, -1)  ->  (-1,-1)\n",
    "(1, -1, 0)  ->  (0,1)\n",
    "(1, 0, -1)  ->  (1,-1)\n",
    "\"\"\""
   ]
  },
  {
   "cell_type": "code",
   "execution_count": 16,
   "metadata": {},
   "outputs": [],
   "source": [
    "def cubic_to_pixel(x, y, z):\n",
    "    return (x - y, -x - y)\n",
    "\n",
    "\n",
    "def pixel_to_array(x, y, n):\n",
    "    return x + n, y + n"
   ]
  },
  {
   "cell_type": "code",
   "execution_count": 24,
   "metadata": {},
   "outputs": [
    {
     "name": "stdout",
     "output_type": "stream",
     "text": [
      "(-1, 0, 1)\t->\t(-1, 1)\t->\t(1, 3)\n",
      "(0, -1, 1)\t->\t(1, 1)\t->\t(3, 3)\n",
      "(0, 0, 0)\t->\t(0, 0)\t->\t(2, 2)\n",
      "(-1, 1, 0)\t->\t(-2, 0)\t->\t(0, 2)\n",
      "(0, 1, -1)\t->\t(-1, -1)\t->\t(1, 1)\n",
      "(1, -1, 0)\t->\t(2, 0)\t->\t(4, 2)\n",
      "(1, 0, -1)\t->\t(1, -1)\t->\t(3, 1)\n"
     ]
    }
   ],
   "source": [
    "pixel_coordinates = list(map(lambda x: cubic_to_pixel(*x), g.nodes()))\n",
    "array_coordinates = list(\n",
    "    map(lambda x: pixel_to_array(*x, n), pixel_coordinates)\n",
    ")\n",
    "for cn, pn, an in zip(g.nodes(), pixel_coordinates, array_coordinates):\n",
    "    print(f\"{cn}\\t->\\t{pn}\\t->\\t{an}\")"
   ]
  },
  {
   "cell_type": "code",
   "execution_count": 41,
   "metadata": {},
   "outputs": [
    {
     "name": "stdout",
     "output_type": "stream",
     "text": [
      ". | 0 | . \n",
      "| 0 | 0 | \n",
      ". | 0 | . \n",
      "| 0 | 0 | \n",
      ". | 0 | . \n"
     ]
    }
   ],
   "source": [
    "def print_board(graph, size):\n",
    "    cubic_nodes = graph.nodes()\n",
    "    pixel_nodes = list(map(lambda x: cubic_to_pixel(*x), cubic_nodes))\n",
    "    array_nodes = list(map(lambda x: pixel_to_array(*x, n), pixel_nodes))\n",
    "\n",
    "    #     sorted_pixel_nodes = sorted(\n",
    "    #         pixel_nodes, key=lambda x: (x[1], -x[0]), reverse=True\n",
    "    #     )\n",
    "\n",
    "    board = np.full((size * 2 + 1, size * 2 + 1), fill_value=\".\")\n",
    "\n",
    "    for x, y in array_nodes:\n",
    "        board[x, y - 1] = \"|\"\n",
    "        board[x, y + 1] = \"|\"\n",
    "        board[x, y] = 0\n",
    "\n",
    "    # print board\n",
    "    for row in board:\n",
    "        for val in row:\n",
    "            print(val, end=\" \")\n",
    "        print()\n",
    "\n",
    "\n",
    "#     print(board)\n",
    "\n",
    "print_board(g, 2)"
   ]
  },
  {
   "cell_type": "code",
   "execution_count": 162,
   "metadata": {},
   "outputs": [],
   "source": [
    "class HexCellNode(nx.Graph):\n",
    "    default_cell_dict = {\"count\": 0, \"player\": None}\n",
    "\n",
    "    def init_node_attr(self):\n",
    "        return self.default_cell_dict.copy()\n",
    "\n",
    "    node_attr_dict_factory = init_node_attr\n",
    "\n",
    "\n",
    "class Hexplode:\n",
    "    def __init__(self, size=2):\n",
    "        self.size = size\n",
    "        self.board_graph = self.initialise_board_graph()\n",
    "        self.players = [\"Player 1\", \"Player 2\"]\n",
    "        self.current_player = 0\n",
    "\n",
    "    @staticmethod\n",
    "    def hexagonal_coordinates(n):\n",
    "        \"\"\"Generate all coordinates for a hexagonal board with side length n.\"\"\"\n",
    "        for x in range(-n + 1, n):\n",
    "            for y in range(max(-n + 1, -x - n + 1), min(n, -x + n)):\n",
    "                z = -x - y\n",
    "                yield (x, y, z)\n",
    "\n",
    "    @staticmethod\n",
    "    def hexagonal_neighbors(x, y, z):\n",
    "        \"\"\"Yield the neighbors of a given hexagon cell in cube coordinates.\"\"\"\n",
    "        # Six possible directions for a hex cell\n",
    "        directions = [\n",
    "            (+1, -1, 0),\n",
    "            (+1, 0, -1),\n",
    "            (0, +1, -1),\n",
    "            (-1, +1, 0),\n",
    "            (-1, 0, +1),\n",
    "            (0, -1, +1),\n",
    "        ]\n",
    "        for dx, dy, dz in directions:\n",
    "            yield (x + dx, y + dy, z + dz)\n",
    "\n",
    "    @staticmethod\n",
    "    def cubic_to_pixel(x, y, z):\n",
    "        return (x - y, -x - y)\n",
    "\n",
    "    @staticmethod\n",
    "    def pixel_to_array(x, y, n):\n",
    "        return x + n, y + n\n",
    "\n",
    "    def create_hexagonal_board(self):\n",
    "        \"\"\"Create a DataFrame representing the edges of a hexagonal board.\"\"\"\n",
    "        size = self.size\n",
    "        coords = list(self.hexagonal_coordinates(size))\n",
    "        edges = []\n",
    "        seen = set()\n",
    "\n",
    "        for x, y, z in coords:\n",
    "            for nx, ny, nz in self.hexagonal_neighbors(x, y, z):\n",
    "                if (nx, ny, nz) in coords:\n",
    "                    edge = tuple(sorted([(x, y, z), (nx, ny, nz)]))\n",
    "                    if edge not in seen:\n",
    "                        seen.add(edge)\n",
    "                        edges.append(edge)\n",
    "\n",
    "        # Creating DataFrame from edges list\n",
    "        edge_df = pd.DataFrame(edges, columns=[\"source\", \"target\"])\n",
    "        return edge_df\n",
    "\n",
    "    def initialise_board_graph(self):\n",
    "        size = self.size\n",
    "        df_edges = self.create_hexagonal_board()\n",
    "        g = nx.from_pandas_edgelist(df_edges, create_using=HexCellNode)\n",
    "        return g\n",
    "\n",
    "    def display_board(self):\n",
    "        g = self.board_graph\n",
    "        size = self.size\n",
    "        cubic_nodes = g.nodes()\n",
    "        node_data = list(g.nodes(data=True))\n",
    "        pixel_nodes = list(map(lambda x: self.cubic_to_pixel(*x), cubic_nodes))\n",
    "        array_nodes = list(\n",
    "            map(lambda x: self.pixel_to_array(*x, size), pixel_nodes)\n",
    "        )\n",
    "\n",
    "        board = np.full((size * 2 + 1, size * 2 + 1), fill_value=\".\")\n",
    "        for i, (x, y) in enumerate(array_nodes):\n",
    "            board[x, y - 1] = \"|\"\n",
    "            board[x, y + 1] = \"|\"\n",
    "            board[x, y] = node_data[i][1][\"count\"]\n",
    "\n",
    "        for row in board:\n",
    "            for val in row:\n",
    "                print(val, end=\" \")\n",
    "            print()\n",
    "\n",
    "    def explode(self, node):\n",
    "        g = self.board_graph\n",
    "        neighbours = g[node]\n",
    "        for neighbour_node in neighbours:\n",
    "            print(neighbour_node)\n",
    "            g.nodes(data=True)[neighbour_node][\"count\"] += 1\n",
    "            g.nodes(data=True)[neighbour_node][\"player\"] = self.players[\n",
    "                self.current_player\n",
    "            ]\n",
    "            neighbour_node_neighbours = g.nodes[neighbour_node]\n",
    "            if g.nodes(data=True)[neighbour_node][\"count\"] > len(\n",
    "                neighbour_node_neighbours\n",
    "            ):\n",
    "                self.explode(neighbour_node)\n",
    "\n",
    "    def valid_move(self, node, player):\n",
    "        g = self.board_graph\n",
    "        is_valid_node = node in g.nodes()\n",
    "        if not is_valid_node:\n",
    "            return 0\n",
    "        node_player = g.nodes(data=True)[node][\"player\"]\n",
    "        print(node_player)\n",
    "        is_valid_player = (node_player is None) or (node_player == player)\n",
    "        if not is_valid_player:\n",
    "            return 0\n",
    "        return 1\n",
    "\n",
    "    def make_move(self, node):\n",
    "        player = self.players[self.current_player]\n",
    "        g = self.board_graph\n",
    "        if self.valid_move(node, player):\n",
    "            g.nodes(data=True)[node][\"count\"] += 1\n",
    "            g.nodes(data=True)[node][\"player\"] = player\n",
    "            neighbours = g[node]\n",
    "            if g.nodes(data=True)[node][\"count\"] > len(neighbours):\n",
    "                g.nodes(data=True)[node][\"count\"] = 1\n",
    "                self.explode(node)\n",
    "            self.current_player = (self.current_player + 1) % 2\n",
    "        else:\n",
    "            print(\"Invalid move: \", node, \" for Player: \", player)"
   ]
  },
  {
   "cell_type": "code",
   "execution_count": 180,
   "metadata": {},
   "outputs": [
    {
     "data": {
      "text/plain": [
       "NodeView(((-1, 0, 1), (0, -1, 1), (0, 0, 0), (-1, 1, 0), (0, 1, -1), (1, -1, 0), (1, 0, -1)))"
      ]
     },
     "execution_count": 180,
     "metadata": {},
     "output_type": "execute_result"
    }
   ],
   "source": [
    "game.board_graph.nodes()"
   ]
  },
  {
   "cell_type": "code",
   "execution_count": 179,
   "metadata": {},
   "outputs": [
    {
     "name": "stdout",
     "output_type": "stream",
     "text": [
      ". | 0 | . \n",
      "| 0 | 0 | \n",
      ". | 0 | . \n",
      "| 0 | 0 | \n",
      ". | 0 | . \n"
     ]
    }
   ],
   "source": [
    "game = Hexplode(2)\n",
    "game.display_board()"
   ]
  },
  {
   "cell_type": "code",
   "execution_count": 170,
   "metadata": {},
   "outputs": [
    {
     "name": "stdout",
     "output_type": "stream",
     "text": [
      "Player 1\n",
      "(0, -1, 1)\n",
      "(-1, 0, 1)\n",
      "(1, -1, 0)\n",
      "(0, 0, 0)\n",
      "(0, 0, 0)\n",
      "(-1, 1, 0)\n",
      ". | 1 | . \n",
      "| 0 | 2 | \n",
      ". | 2 | . \n",
      "| 0 | 4 | \n",
      ". | 1 | . \n"
     ]
    }
   ],
   "source": [
    "game.make_move((-1, 0, 1))\n",
    "game.display_board()"
   ]
  },
  {
   "cell_type": "code",
   "execution_count": 169,
   "metadata": {},
   "outputs": [
    {
     "name": "stdout",
     "output_type": "stream",
     "text": [
      "Player 2\n",
      ". | 0 | . \n",
      "| 0 | 3 | \n",
      ". | 0 | . \n",
      "| 0 | 3 | \n",
      ". | 0 | . \n"
     ]
    }
   ],
   "source": [
    "game.make_move((0, -1, 1))\n",
    "game.display_board()"
   ]
  },
  {
   "cell_type": "code",
   "execution_count": 139,
   "metadata": {},
   "outputs": [
    {
     "name": "stdout",
     "output_type": "stream",
     "text": [
      ". | 1 | . \n",
      "| 0 | 3 | \n",
      ". | 1 | . \n",
      "| 0 | 3 | \n",
      ". | 0 | . \n"
     ]
    }
   ],
   "source": [
    "game.explode((-1, 0, 1))\n",
    "game.display_board()"
   ]
  },
  {
   "cell_type": "code",
   "execution_count": 140,
   "metadata": {},
   "outputs": [
    {
     "data": {
      "text/plain": [
       "AtlasView({(0, -1, 1): {}, (0, 0, 0): {}, (-1, 1, 0): {}})"
      ]
     },
     "execution_count": 140,
     "metadata": {},
     "output_type": "execute_result"
    }
   ],
   "source": [
    "game.board_graph[(-1, 0, 1)]"
   ]
  },
  {
   "cell_type": "code",
   "execution_count": 150,
   "metadata": {},
   "outputs": [
    {
     "data": {
      "text/plain": [
       "[((-1, 0, 1), {'count': 3, 'player': 'Player 1'}),\n",
       " ((0, -1, 1), {'count': 3, 'player': 'Player 2'}),\n",
       " ((0, 0, 0), {'count': 0, 'player': None}),\n",
       " ((-1, 1, 0), {'count': 0, 'player': None}),\n",
       " ((0, 1, -1), {'count': 0, 'player': None}),\n",
       " ((1, -1, 0), {'count': 0, 'player': None}),\n",
       " ((1, 0, -1), {'count': 0, 'player': None})]"
      ]
     },
     "execution_count": 150,
     "metadata": {},
     "output_type": "execute_result"
    }
   ],
   "source": [
    "list(game.board_graph.nodes(data=True))"
   ]
  },
  {
   "cell_type": "code",
   "execution_count": null,
   "metadata": {},
   "outputs": [],
   "source": []
  }
 ],
 "metadata": {
  "kernelspec": {
   "display_name": "hexplode",
   "language": "python",
   "name": "hexplode"
  },
  "language_info": {
   "codemirror_mode": {
    "name": "ipython",
    "version": 3
   },
   "file_extension": ".py",
   "mimetype": "text/x-python",
   "name": "python",
   "nbconvert_exporter": "python",
   "pygments_lexer": "ipython3",
   "version": "3.11.0"
  }
 },
 "nbformat": 4,
 "nbformat_minor": 4
}
