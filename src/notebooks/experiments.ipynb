{
 "cells": [
  {
   "cell_type": "markdown",
   "metadata": {},
   "source": [
    "# Imports"
   ]
  },
  {
   "cell_type": "code",
   "execution_count": 29,
   "metadata": {},
   "outputs": [],
   "source": [
    "import itertools\n",
    "import networkx as nx\n",
    "import numpy as np"
   ]
  },
  {
   "cell_type": "markdown",
   "metadata": {},
   "source": [
    "# Config"
   ]
  },
  {
   "cell_type": "code",
   "execution_count": 2,
   "metadata": {},
   "outputs": [],
   "source": [
    "# board size = length of one side of hexagonal board\n",
    "board_size = 4"
   ]
  },
  {
   "cell_type": "markdown",
   "metadata": {},
   "source": [
    "# Create Board"
   ]
  },
  {
   "cell_type": "markdown",
   "metadata": {},
   "source": [
    "* hexagonal 2d space can be represented with 3 axes on a 2d plane equally \n",
    "separated\n",
    "* each integer coordinate is a single square on the board\n",
    "* neighbours are then +1 in each axes, maxed at the size of the board"
   ]
  },
  {
   "cell_type": "code",
   "execution_count": 81,
   "metadata": {},
   "outputs": [],
   "source": [
    "nodes = np.array(\n",
    "    list(itertools.product(*[range(-board_size + 1, board_size)] * 2))\n",
    ")\n",
    "directions = list(itertools.product(*[[-1, 0, 1]] * 2))\n",
    "directions.pop(directions.index((0, 0)))\n",
    "directions = np.array(directions)"
   ]
  },
  {
   "cell_type": "code",
   "execution_count": 82,
   "metadata": {},
   "outputs": [],
   "source": [
    "edges = {}\n",
    "for i, node in enumerate(nodes):\n",
    "    edges[i] = []\n",
    "    for direction in directions:\n",
    "        neighbour = node + direction\n",
    "        if (np.abs(neighbour) >= board_size).sum() > 0:\n",
    "            continue\n",
    "        neighbour_index = nodes.tolist().index(neighbour.tolist())\n",
    "        edges[i].append(neighbour_index)\n",
    "g = nx.from_dict_of_lists(edges)"
   ]
  },
  {
   "cell_type": "code",
   "execution_count": 88,
   "metadata": {},
   "outputs": [
    {
     "name": "stdout",
     "output_type": "stream",
     "text": [
      "from node:\n",
      "[-3 -3]\n",
      "\n",
      "to nodes:\n",
      "[-3 -2]\n",
      "[-2 -3]\n",
      "[-2 -2]\n"
     ]
    }
   ],
   "source": [
    "print(f\"from node:\\n{nodes[0]}\\n\")\n",
    "print(\"to nodes:\")\n",
    "for to_node in g[0].keys():\n",
    "    print(nodes[to_node])"
   ]
  },
  {
   "cell_type": "code",
   "execution_count": 77,
   "metadata": {},
   "outputs": [
    {
     "data": {
      "text/plain": [
       "array([-3, -3, -3])"
      ]
     },
     "execution_count": 77,
     "metadata": {},
     "output_type": "execute_result"
    }
   ],
   "source": [
    "nodes[0]"
   ]
  },
  {
   "cell_type": "code",
   "execution_count": 78,
   "metadata": {},
   "outputs": [
    {
     "data": {
      "text/plain": [
       "37"
      ]
     },
     "execution_count": 78,
     "metadata": {},
     "output_type": "execute_result"
    }
   ],
   "source": [
    "4 + 5 + 6 + 7 + 6 + 5 + 4"
   ]
  },
  {
   "cell_type": "code",
   "execution_count": 84,
   "metadata": {},
   "outputs": [
    {
     "data": {
      "text/plain": [
       "49"
      ]
     },
     "execution_count": 84,
     "metadata": {},
     "output_type": "execute_result"
    }
   ],
   "source": [
    "len(nodes)"
   ]
  }
 ],
 "metadata": {
  "kernelspec": {
   "display_name": "hexplode",
   "language": "python",
   "name": "python3"
  },
  "language_info": {
   "codemirror_mode": {
    "name": "ipython",
    "version": 3
   },
   "file_extension": ".py",
   "mimetype": "text/x-python",
   "name": "python",
   "nbconvert_exporter": "python",
   "pygments_lexer": "ipython3",
   "version": "3.11.0"
  }
 },
 "nbformat": 4,
 "nbformat_minor": 2
}
